{
 "cells": [
  {
   "cell_type": "code",
   "execution_count": 1,
   "id": "c9a2d6c7",
   "metadata": {},
   "outputs": [],
   "source": [
    "import matplotlib.pyplot as plt\n",
    "import pandas as pd\n",
    "import numpy as np\n",
    "import seaborn as sns\n",
    "import scipy"
   ]
  },
  {
   "cell_type": "code",
   "execution_count": 2,
   "id": "8fdf8415",
   "metadata": {},
   "outputs": [],
   "source": [
    "path1 = r'E:\\netData\\MAGzip\\MAG Nobel\\2 Nobelpapers\\1M NobelCitingpapers.zip'\n",
    "path2 = r'E:\\netData\\MAGzip\\MAG Nobel\\2 Nobelpapers\\712 Nobelpapers.zip'\n",
    "path3 = r'E:\\netData\\MAGzip\\MAG Nobel\\2 Nobelpapers\\712 NobelpapersCD.zip'"
   ]
  },
  {
   "cell_type": "code",
   "execution_count": 3,
   "id": "debdbf92",
   "metadata": {},
   "outputs": [],
   "source": [
    "f1 = pd.read_csv(path1)\n",
    "f2 = pd.read_csv(path2)\n",
    "f3 = pd.read_csv(path3)"
   ]
  },
  {
   "cell_type": "code",
   "execution_count": 4,
   "id": "a9248b61",
   "metadata": {},
   "outputs": [],
   "source": [
    "f1['Field'] = f1['Nobel'].map(f2.set_index('paperid')['Field'])\n",
    "f11 = f1[f1['Field'] == 'Physics']\n",
    "f12 = f1[f1['Field'] == 'Chemistry']\n",
    "f13 = f1[f1['Field'] == 'Medicine']"
   ]
  },
  {
   "cell_type": "markdown",
   "id": "1b5ee722",
   "metadata": {},
   "source": [
    "# a"
   ]
  },
  {
   "cell_type": "code",
   "execution_count": 5,
   "id": "48ee6741",
   "metadata": {},
   "outputs": [],
   "source": [
    "x_pos = [1,2,]\n",
    "colors = [\"#1F618D\",\"#AF601A\"]\n",
    "labels = ['Physics','Chemistry','Medicine']\n",
    "d1 = f11.loc[f11['type'] == 'DC'  ,  'AUnum']\n",
    "d2 = f12.loc[f12['type'] == 'DC'  ,  'AUnum']\n",
    "d3 = f13.loc[f13['type'] == 'DC'  ,  'AUnum']\n",
    "d5 = f11.loc[f11['type'] == 'CC'  ,  'AUnum']\n",
    "d6 = f12.loc[f12['type'] == 'CC'  ,  'AUnum']\n",
    "d7 = f13.loc[f13['type'] == 'CC'  ,  'AUnum']\n",
    "d = [np.mean(d1),np.mean(d2),np.mean(d3),np.mean(d5),np.mean(d6),np.mean(d7)]\n",
    "std = [np.std(d1)*len(d1)**-0.5,np.std(d2)*len(d2)**-0.5,np.std(d3)*len(d3)**-0.5,np.std(d5)*len(d5)**-0.5,np.std(d6)*len(d6)**-0.5,np.std(d7)*len(d7)**-0.5]"
   ]
  },
  {
   "cell_type": "code",
   "execution_count": 9,
   "id": "05fc9365",
   "metadata": {},
   "outputs": [
    {
     "data": {
      "image/png": "[encoded data removed]",
      "text/plain": [
       "<Figure size 1584x432 with 3 Axes>"
      ]
     },
     "metadata": {
      "needs_background": "light"
     },
     "output_type": "display_data"
    }
   ],
   "source": [
    "plt.subplots(1,3,figsize=(22,6))\n",
    "for _ in range(3):\n",
    "    ax = plt.subplot(1,3,_ + 1)\n",
    "    dd = [d[_] , d[_+3]]\n",
    "    plt.bar(x_pos, dd, yerr=[std[0],std[3]],align='center', color= colors,alpha=0.9,capsize=10)\n",
    "    ax.yaxis.grid(True)\n",
    "    plt.ylim((0,15))\n",
    "    plt.xlim(0.5,2.5)\n",
    "    for i in range(len(dd)):\n",
    "        plt.text(x_pos[i],dd[i]-1.5 , str(np.round(dd[i] , 1)),fontsize = 25,c = 'white', ha='center', fontweight='bold')\n",
    "    plt.xticks(x_pos,['DCP','CCP'],fontsize = 25)\n",
    "    plt.yticks([0,3,6,9,12,15],size = 24)\n",
    "    if _ == 0:\n",
    "        plt.ylabel(r'Avg. Team Size',fontsize = 30)\n",
    "    else:\n",
    "        plt.ylabel(r'',fontsize = 0)\n",
    "#     plt.title(labels[_],size = 35)\n",
    "    ax.axvspan(min(x_pos)-1, max(x_pos) / 2+0.5, facecolor='#154360', alpha=0.2)\n",
    "    ax.axvspan(max(x_pos) / 2+0.5, max(x_pos)+1, facecolor='#6E2C00', alpha=0.2)"
   ]
  },
  {
   "cell_type": "code",
   "execution_count": 10,
   "id": "543a9ea6",
   "metadata": {},
   "outputs": [
    {
     "name": "stdout",
     "output_type": "stream",
     "text": [
      "MannwhitneyuResult(statistic=4836724930.0, pvalue=3.763367723962084e-123)\n",
      "MannwhitneyuResult(statistic=11987434624.0, pvalue=0.0)\n",
      "MannwhitneyuResult(statistic=15320375129.0, pvalue=1.2952567006128897e-276)\n"
     ]
    }
   ],
   "source": [
    "print(scipy.stats.mannwhitneyu(d1 , d5, alternative='two-sided'))\n",
    "print(scipy.stats.mannwhitneyu(d2.dropna() , d6.dropna(), alternative='two-sided'))\n",
    "print(scipy.stats.mannwhitneyu(d3.dropna() , d7.dropna(), alternative='two-sided'))"
   ]
  },
  {
   "cell_type": "code",
   "execution_count": null,
   "id": "c87a8b4d",
   "metadata": {},
   "outputs": [],
   "source": []
  }
 ],
 "metadata": {
  "kernelspec": {
   "display_name": "Python 3 (ipykernel)",
   "language": "python",
   "name": "python3"
  },
  "language_info": {
   "codemirror_mode": {
    "name": "ipython",
    "version": 3
   },
   "file_extension": ".py",
   "mimetype": "text/x-python",
   "name": "python",
   "nbconvert_exporter": "python",
   "pygments_lexer": "ipython3",
   "version": "3.9.12"
  }
 },
 "nbformat": 4,
 "nbformat_minor": 5
}
